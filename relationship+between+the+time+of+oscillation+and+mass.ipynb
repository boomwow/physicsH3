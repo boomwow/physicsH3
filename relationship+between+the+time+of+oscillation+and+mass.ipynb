{
 "cells": [
  {
   "cell_type": "markdown",
   "metadata": {},
   "source": [
    "Mohammed Elmzaghi, Maytte Cadena, Jesus Robayo \n",
    "Mr.Enrico\n",
    "Physics Honors period 3\n",
    "8 December 2016"
   ]
  },
  {
   "cell_type": "code",
   "execution_count": 2,
   "metadata": {
    "collapsed": true
   },
   "outputs": [],
   "source": [
    "%matplotlib inline"
   ]
  },
  {
   "cell_type": "markdown",
   "metadata": {},
   "source": [
    "# Relationship Between the Time of Oscillation and Mass"
   ]
  },
  {
   "cell_type": "markdown",
   "metadata": {},
   "source": [
    "## Introduction"
   ]
  },
  {
   "cell_type": "markdown",
   "metadata": {
    "collapsed": true
   },
   "source": [
    "According to Newton's first law of motion, and object that is oscillating back and forth has had a force acted upon it. In our lab experiment, by using different masses we want to find out the relationship between the amount of force weight has on a spring with how long it takes for the spring to oscillate a set amount of times."
   ]
  },
  {
   "cell_type": "markdown",
   "metadata": {},
   "source": [
    "## Procedure "
   ]
  },
  {
   "cell_type": "markdown",
   "metadata": {
    "collapsed": true
   },
   "source": [
    "Gather different weights intended for use in this experiment. Place each weight individually onto the spring tool. Have a controlled distance in which the spring will be pulled down from the original starting point. Time the amount of seconds that the each weight will do in a certain amount of oscillations. Lastly, identify the intervals in where the oscillation is occuring at."
   ]
  },
  {
   "cell_type": "markdown",
   "metadata": {},
   "source": [
    "## Data and Analysis"
   ]
  },
  {
   "cell_type": "markdown",
   "metadata": {},
   "source": [
    "|Weight(grams)|time(seconds)| oscillation intervals (centimeters)|\n",
    "|-------------|-------|-------------------|\n",
    "|40       | 3.7 | 3-6 |\n",
    "|50         | 4   | 3-7|\n",
    "|70          | 6  |5-8|\n",
    "|90          |7  |6-9|\n",
    "|100          |8    |7-10|\n"
   ]
  },
  {
   "cell_type": "code",
   "execution_count": 4,
   "metadata": {
    "collapsed": false
   },
   "outputs": [
    {
     "name": "stdout",
     "output_type": "stream",
     "text": [
      "0.0726923076903 0.651538461538\n"
     ]
    },
    {
     "name": "stderr",
     "output_type": "stream",
     "text": [
      "C:\\Program Files\\Anaconda3\\lib\\site-packages\\matplotlib\\axes\\_axes.py:531: UserWarning: No labelled objects found. Use label='...' kwarg on individual plots.\n",
      "  warnings.warn(\"No labelled objects found. \"\n"
     ]
    },
    {
     "data": {
      "image/png": "[encoded data removed]",
      "text/plain": [
       "<matplotlib.figure.Figure at 0x7a07390>"
      ]
     },
     "metadata": {},
     "output_type": "display_data"
    }
   ],
   "source": [
    "import matplotlib.pyplot as plt \n",
    "import numpy as np \n",
    "from scipy.optimize import curve_fit \n",
    "\n",
    "xx= np.linspace (0,100,10)\n",
    "\n",
    "def lm(x,a,b):\n",
    "    return a*x+b\n",
    "\n",
    "x=np.array([40,50,70,90,100])\n",
    "y=np.array([3.7,4,6,7,8])\n",
    "\n",
    "a,b= curve_fit(lm,x,y)[0]\n",
    "plt.plot(xx, lm(xx,a,b))\n",
    "print(a,b)\n",
    "\n",
    "plt. ylabel ('Oscillation time in sec')\n",
    "plt. xlabel ('Weight in grams')\n",
    "plt.title ('Relationship Between Time Oscillation And Mass')\n",
    "plt.legend (loc='lower right')\n",
    "plt.show ()"
   ]
  },
  {
   "cell_type": "markdown",
   "metadata": {},
   "source": [
    "## Conclusion"
   ]
  },
  {
   "cell_type": "markdown",
   "metadata": {
    "collapsed": true
   },
   "source": []
  }
 ],
 "metadata": {
  "anaconda-cloud": {
   "environment": null,
   "summary": "labs",
   "url": "https://anaconda.org/boomwow/relationship-between-the-time-of-oscillation-and-mass"
  },
  "kernelspec": {
   "display_name": "Python [default]",
   "language": "python",
   "name": "python3"
  },
  "language_info": {
   "codemirror_mode": {
    "name": "ipython",
    "version": 3
   },
   "file_extension": ".py",
   "mimetype": "text/x-python",
   "name": "python",
   "nbconvert_exporter": "python",
   "pygments_lexer": "ipython3",
   "version": "3.5.2"
  }
 },
 "nbformat": 4,
 "nbformat_minor": 0
}
